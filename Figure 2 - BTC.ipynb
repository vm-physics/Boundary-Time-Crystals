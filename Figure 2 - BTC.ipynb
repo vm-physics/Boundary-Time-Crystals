{
 "cells": [
  {
   "cell_type": "code",
   "execution_count": null,
   "metadata": {
    "ExecuteTime": {
     "end_time": "2022-11-25T07:47:25.202561Z",
     "start_time": "2022-11-25T07:47:23.081168Z"
    },
    "code_folding": []
   },
   "outputs": [],
   "source": [
    "import os\n",
    "os.environ['OMP_NUM_THREADS'] = '10'\n",
    "from __future__ import division\n",
    "\n",
    "import itertools\n",
    "\n",
    "from cycler import cycler\n",
    "import matplotlib as mpl\n",
    "import matplotlib.pyplot as plt\n",
    "import numpy as np\n",
    "\n",
    "import matplotlib\n",
    "import fssa\n",
    "\n",
    "from qutip import *\n",
    "\n",
    "plt.rcParams['axes.labelsize']  = 18\n",
    "plt.rcParams['axes.titlesize']  = 16\n",
    "plt.rcParams['xtick.labelsize'] = 16\n",
    "plt.rcParams['ytick.labelsize'] = 16\n",
    "plt.rcParams['legend.fontsize'] = 16\n",
    "\n",
    "folder_name = '../Data/'"
   ]
  },
  {
   "cell_type": "code",
   "execution_count": null,
   "metadata": {
    "ExecuteTime": {
     "end_time": "2022-11-25T07:47:25.209915Z",
     "start_time": "2022-11-25T07:47:25.204606Z"
    }
   },
   "outputs": [],
   "source": [
    "def parallel_w0(w0):\n",
    "    \n",
    "    H    = w0 * J_x\n",
    "        \n",
    "    return steadystate(H, c_ops)"
   ]
  },
  {
   "cell_type": "code",
   "execution_count": null,
   "metadata": {
    "ExecuteTime": {
     "end_time": "2022-11-08T16:36:26.449755Z",
     "start_time": "2022-11-08T13:40:25.226047Z"
    },
    "code_folding": [],
    "scrolled": true
   },
   "outputs": [],
   "source": [
    "#Finite-size using https://pyfssa.readthedocs.io/en/stable/index.html\n",
    "\n",
    "N_vec1 = range(2, 20, 2)\n",
    "N_vec2 = range(20, 1020, 20)\n",
    "\n",
    "N_vec  = np.concatenate( (N_vec1, N_vec2), axis = 0 )\n",
    "\n",
    "for N in N_vec:\n",
    "    \n",
    "    print(\"N = \", N)\n",
    "    \n",
    "    w0_vec1       = np.linspace(0.10, 0.9  , 50)\n",
    "    w0_vec2       = np.linspace(0.90, 1.0  , 50)\n",
    "    w0_vec3       = np.linspace(1.00, 1.2  , 50)\n",
    "\n",
    "    w0_vec        = np.concatenate( (w0_vec1, w0_vec2, w0_vec3), axis = 0 )\n",
    "\n",
    "    J_x           = jmat( N/2, 'x')\n",
    "    J_y           = jmat( N/2, 'y')\n",
    "    J_z           = jmat( N/2, 'z')\n",
    "    \n",
    "    J_minus       = jmat( N/2, '-')\n",
    "\n",
    "    kappa         = 1\n",
    "    c_ops         = [np.sqrt( kappa / (N/2) ) * J_minus]\n",
    "    \n",
    "    aux           = parfor( parallel_w0, w0_vec )\n",
    "\n",
    "    expect_Sx_vec = expect(J_x, aux)\n",
    "    expect_Sy_vec = expect(J_y, aux)\n",
    "    expect_Sz_vec = expect(J_z, aux)\n",
    "\n",
    "    np.save(folder_name + \"Sx_vec_N=\"+str(N)     , expect_Sx_vec )\n",
    "    np.save(folder_name + \"Sy_vec_N=\"+str(N)     , expect_Sy_vec )\n",
    "    np.save(folder_name + \"Sz_vec_N=\"+str(N)     , expect_Sz_vec )\n",
    "    \n",
    "    np.save(folder_name + \"inversion_w0_vec_N=\"+str(N)  , w0_vec )"
   ]
  },
  {
   "cell_type": "code",
   "execution_count": null,
   "metadata": {
    "ExecuteTime": {
     "end_time": "2022-11-25T08:09:04.549864Z",
     "start_time": "2022-11-25T08:07:20.603326Z"
    },
    "scrolled": false
   },
   "outputs": [],
   "source": [
    "N_vec       = range(20, 800, 40)\n",
    "\n",
    "ls          = N_vec\n",
    "a           = []\n",
    "\n",
    "st          = 10\n",
    "\n",
    "for N in N_vec:    \n",
    "    aux = np.load(folder_name + \"Sz_vec_N=\"+str(N)+\".npy\" )\n",
    "    aux = aux[st:-1]\n",
    "    a.append( np.divide(-aux, N)  )\n",
    "    \n",
    "w0_vec       = np.load(folder_name + \"inversion_w0_vec_N=\"+str(N)+\".npy\" )\n",
    "\n",
    "rhos         = w0_vec[st:-1]\n",
    "\n",
    "da           = np.multiply(a , 0.005)\n",
    "\n",
    "ret          = fssa.autoscale(ls, rhos, a, da, 0.99, 1.45, -0.45)\n",
    "\n",
    "print(ret)\n",
    "\n",
    "auto_scaled_data_1 = fssa.scaledata(ls, rhos, a, da, ret.rho, ret.nu, ret.zeta)\n",
    "\n",
    "print(\"wcritical = \", ret.rho, ret.drho)\n",
    "print(\"nu = \", ret.nu, ret.dnu)\n",
    "print(\"zeta = \", ret.zeta, ret.dzeta)\n",
    "\n",
    "print(ret.fun)"
   ]
  },
  {
   "cell_type": "code",
   "execution_count": null,
   "metadata": {},
   "outputs": [],
   "source": []
  }
 ],
 "metadata": {
  "kernelspec": {
   "display_name": "Python 3 (ipykernel)",
   "language": "python",
   "name": "python3"
  },
  "language_info": {
   "codemirror_mode": {
    "name": "ipython",
    "version": 3
   },
   "file_extension": ".py",
   "mimetype": "text/x-python",
   "name": "python",
   "nbconvert_exporter": "python",
   "pygments_lexer": "ipython3",
   "version": "3.10.6"
  },
  "toc": {
   "base_numbering": 1,
   "nav_menu": {},
   "number_sections": true,
   "sideBar": true,
   "skip_h1_title": false,
   "title_cell": "Table of Contents",
   "title_sidebar": "Contents",
   "toc_cell": false,
   "toc_position": {},
   "toc_section_display": true,
   "toc_window_display": false
  },
  "varInspector": {
   "cols": {
    "lenName": 16,
    "lenType": 16,
    "lenVar": 40
   },
   "kernels_config": {
    "python": {
     "delete_cmd_postfix": "",
     "delete_cmd_prefix": "del ",
     "library": "var_list.py",
     "varRefreshCmd": "print(var_dic_list())"
    },
    "r": {
     "delete_cmd_postfix": ") ",
     "delete_cmd_prefix": "rm(",
     "library": "var_list.r",
     "varRefreshCmd": "cat(var_dic_list()) "
    }
   },
   "types_to_exclude": [
    "module",
    "function",
    "builtin_function_or_method",
    "instance",
    "_Feature"
   ],
   "window_display": false
  }
 },
 "nbformat": 4,
 "nbformat_minor": 4
}
