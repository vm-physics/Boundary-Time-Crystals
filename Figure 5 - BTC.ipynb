{
 "cells": [
  {
   "cell_type": "code",
   "execution_count": null,
   "metadata": {
    "ExecuteTime": {
     "end_time": "2023-03-08T06:21:53.499369Z",
     "start_time": "2023-03-08T06:21:52.396430Z"
    },
    "code_folding": []
   },
   "outputs": [],
   "source": [
    "import os\n",
    "os.environ['OMP_NUM_THREADS'] = '30'\n",
    "\n",
    "from qutip import *\n",
    "import numpy as np\n",
    "\n",
    "import matplotlib\n",
    "import matplotlib.pyplot as plt\n",
    "\n",
    "import matplotlib as mpl\n",
    "from mpl_toolkits.axes_grid1.inset_locator import zoomed_inset_axes, mark_inset\n",
    "from mpl_toolkits.axes_grid1.anchored_artists import AnchoredSizeBar\n",
    "from scipy.optimize import curve_fit\n",
    "\n",
    "\n",
    "def func_polynomial(x, a, b, c):\n",
    "    return a * x**(b) + c\n",
    "\n",
    "def func_eig(x, a, b, c):\n",
    "    return a * x**(-b/2) + c"
   ]
  },
  {
   "cell_type": "code",
   "execution_count": null,
   "metadata": {},
   "outputs": [],
   "source": [
    "def parallel_ground_state(N):\n",
    "\n",
    "    J_x            = jmat( N/2, 'x')\n",
    "    J_z            = jmat( N/2, 'z')\n",
    "    J_minus        = jmat( N/2, '-')\n",
    "\n",
    "    kappa          = 1\n",
    "    c_ops          = [np.sqrt( kappa / (N/2) ) * J_minus]\n",
    "\n",
    "    #From Figure 2 - BTC file:\n",
    "    QFI_vec       = np.load(folder_name + \"QFI_along_w0_N=\"+str(N)+\".npy\")\n",
    "    w0_vec        = np.load(folder_name + \"w0_N=\"+str(N)+\".npy\")\n",
    "\n",
    "    w0_at          = w0_vec[np.argmax(QFI_vec)]\n",
    "\n",
    "    #Second eigenvalue of the Liouvillian:    \n",
    "    H_at           = w0_at * J_x\n",
    "    L_at           = liouvillian(H_at, c_ops)\n",
    "    eig_mat_at     = L_at.eigenenergies(sparse = True, sort='high', eigvals=2, tol=0, maxiter=100000)\n",
    "    eig_2nd_at     = np.abs(np.real(eig_mat_at)[1])\n",
    "\n",
    "    at_time        = alpha_coefficient * (1 / eig_2nd_at)\n",
    "\n",
    "    rho0           = ket2dm( (J_z.groundstate()[1]).unit() )\n",
    "                            \n",
    "    tlist          = np.linspace(0, at_time, 400)\n",
    "\n",
    "    div            = 1000\n",
    "    \n",
    "    delta_w0_at    = w0_at / div\n",
    "\n",
    "    ##\n",
    "    rhot_p         = mesolve( (w0_at + delta_w0_at) * J_x, rho0, tlist, c_ops, [])\n",
    "    rhot_p         = rhot_p.states[-1]\n",
    "\n",
    "    ##\n",
    "    rhot_m         = mesolve( (w0_at - delta_w0_at) * J_x, rho0, tlist, c_ops, [])\n",
    "    rhot_m         = rhot_m.states[-1]\n",
    "\n",
    "    QFI            = 8 * ( 1 - fidelity(rhot_p, rhot_m) ) / (2 * delta_w0_at)**2\n",
    "\n",
    "    np.save(folder_name_save + \"eig_at_N=\"+str(N)+\"_alpha_coeff=\"+str(alpha_coefficient)\\\n",
    "            , eig_2nd_at )\n",
    "    np.save(folder_name_save + \"qfi_at_N=\"+str(N)+\"_alpha_coeff=\"+str(alpha_coefficient)\\\n",
    "            , QFI )"
   ]
  },
  {
   "cell_type": "code",
   "execution_count": null,
   "metadata": {},
   "outputs": [],
   "source": [
    "N_vec_1                 = range(2  , 100, 2)\n",
    "N_vec_2                 = range(100, 300, 20)\n",
    "\n",
    "N_vec                   = np.concatenate( (N_vec_1, N_vec_2), axis = 0 )\n",
    "\n",
    "alpha_coefficient_vec   = [1, 2, 5]\n",
    "\n",
    "for alpha_coefficient in alpha_coefficient_vec:\n",
    "    \n",
    "    print(\"alpha = \", alpha_coefficient)\n",
    "    \n",
    "    parfor(parallel_ground_state, N_vec)"
   ]
  }
 ],
 "metadata": {
  "kernelspec": {
   "display_name": "Python 3 (ipykernel)",
   "language": "python",
   "name": "python3"
  },
  "language_info": {
   "codemirror_mode": {
    "name": "ipython",
    "version": 3
   },
   "file_extension": ".py",
   "mimetype": "text/x-python",
   "name": "python",
   "nbconvert_exporter": "python",
   "pygments_lexer": "ipython3",
   "version": "3.10.6"
  },
  "toc": {
   "base_numbering": 1,
   "nav_menu": {},
   "number_sections": true,
   "sideBar": true,
   "skip_h1_title": false,
   "title_cell": "Table of Contents",
   "title_sidebar": "Contents",
   "toc_cell": false,
   "toc_position": {},
   "toc_section_display": true,
   "toc_window_display": false
  },
  "varInspector": {
   "cols": {
    "lenName": 16,
    "lenType": 16,
    "lenVar": 40
   },
   "kernels_config": {
    "python": {
     "delete_cmd_postfix": "",
     "delete_cmd_prefix": "del ",
     "library": "var_list.py",
     "varRefreshCmd": "print(var_dic_list())"
    },
    "r": {
     "delete_cmd_postfix": ") ",
     "delete_cmd_prefix": "rm(",
     "library": "var_list.r",
     "varRefreshCmd": "cat(var_dic_list()) "
    }
   },
   "types_to_exclude": [
    "module",
    "function",
    "builtin_function_or_method",
    "instance",
    "_Feature"
   ],
   "window_display": false
  }
 },
 "nbformat": 4,
 "nbformat_minor": 4
}
