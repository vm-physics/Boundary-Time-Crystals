{
 "cells": [
  {
   "cell_type": "code",
   "execution_count": null,
   "metadata": {
    "ExecuteTime": {
     "end_time": "2022-12-02T15:23:09.674518Z",
     "start_time": "2022-12-02T15:23:09.039857Z"
    },
    "code_folding": []
   },
   "outputs": [],
   "source": [
    "from qutip import *\n",
    "import matplotlib.pyplot as plt\n",
    "import numpy as np\n",
    "\n",
    "import matplotlib.pyplot as plt\n",
    "plt.rcParams['axes.labelsize']  = 18\n",
    "plt.rcParams['axes.titlesize']  = 16\n",
    "plt.rcParams['xtick.labelsize'] = 16\n",
    "plt.rcParams['ytick.labelsize'] = 16\n",
    "plt.rcParams['legend.fontsize'] = 16\n",
    "\n",
    "folder_name = '../Data/'"
   ]
  },
  {
   "cell_type": "code",
   "execution_count": null,
   "metadata": {
    "ExecuteTime": {
     "end_time": "2022-11-29T10:57:23.692168Z",
     "start_time": "2022-11-29T10:49:08.270735Z"
    },
    "code_folding": []
   },
   "outputs": [],
   "source": [
    "N          = 40\n",
    "\n",
    "phi_vec    = np.linspace(0, 1 * np.pi, 60)\n",
    "theta_vec  = np.linspace(0, 1 * np.pi, 60)\n",
    "\n",
    "CFI_angles = []\n",
    "\n",
    "for phi in phi_vec:\n",
    "\n",
    "    div           = 1000\n",
    "\n",
    "    #From Figure 2 - BTC file:\n",
    "    QFI_vec       = np.load(folder_name + \"QFI_along_w0_N=\"+str(N)+\".npy\")\n",
    "    w0_vec        = np.load(folder_name + \"w0_N=\"+str(N)+\".npy\")\n",
    "\n",
    "    where_max_QFI = w0_vec[ np.argmax(QFI_vec) ]\n",
    "\n",
    "    CFI_theta     = []\n",
    "\n",
    "    for theta in theta_vec:\n",
    "\n",
    "        J_x          = jmat( N/2, 'x')\n",
    "        J_y          = jmat( N/2, 'y')\n",
    "        J_z          = jmat( N/2, 'z') \n",
    "\n",
    "        J_minus      = jmat( N/2, '-')\n",
    "\n",
    "        J_O          = np.sin(theta) * np.cos(phi) * J_x + \\\n",
    "                       np.sin(theta) * np.sin(phi) * J_y + \\\n",
    "                       np.cos(theta) * J_z\n",
    "                \n",
    "        eig_J_O      = J_O.eigenstates()\n",
    "\n",
    "        #eig_J_O[1][s]\n",
    "\n",
    "        kappa        = 1\n",
    "        c_ops        = [np.sqrt( kappa / (N/2) ) * J_minus]\n",
    "\n",
    "        w0           = where_max_QFI\n",
    "\n",
    "        tol          = 1e-12\n",
    "\n",
    "        ########### no increment\n",
    "        H            = w0 * J_x\n",
    "        rho          = steadystate(H, c_ops, method = 'direct', use_rcm = True)\n",
    "\n",
    "        delta_w0     = w0 / div\n",
    "\n",
    "        ########### plus increment\n",
    "        H_plus       = (w0 + delta_w0) * J_x\n",
    "        rho_plus     = steadystate(H_plus , c_ops, method = 'direct', use_rcm = True)\n",
    "\n",
    "        ########### minus increment\n",
    "        H_minus      = (w0 - delta_w0) * J_x\n",
    "        rho_minus    = steadystate(H_minus, c_ops, method = 'direct', use_rcm = True)\n",
    "\n",
    "        ########### 2 plus increment\n",
    "        H_2plus      = (w0 + 2 * delta_w0) * J_x\n",
    "        rho_2plus    = steadystate(H_2plus , c_ops, method = 'direct', use_rcm = True)\n",
    "\n",
    "        ########### 2 minus increment\n",
    "        H_2minus     = (w0 - 2 * delta_w0) * J_x\n",
    "        rho_2minus   = steadystate(H_2minus, c_ops, method = 'direct', use_rcm = True)\n",
    "\n",
    "        cfi_s = 0\n",
    "\n",
    "        for s in range( len(eig_J_O[0]) ) :\n",
    "            diff        = (-rho_2plus + 8*rho_plus - 8*rho_minus + rho_2minus) / (12 * delta_w0)\n",
    "            prob_s      = (eig_J_O[1][s].dag() * rho * eig_J_O[1][s])[0,0]\n",
    "            diff_prob_s = (eig_J_O[1][s].dag() * diff * eig_J_O[1][s])[0,0]\n",
    "\n",
    "            if prob_s >= tol:\n",
    "                cfi_s = cfi_s + (1 / prob_s) * (diff_prob_s)**2\n",
    "\n",
    "        CFI_theta.append( np.real(cfi_s) )\n",
    "        \n",
    "    CFI_angles.append( CFI_theta )"
   ]
  }
 ],
 "metadata": {
  "kernelspec": {
   "display_name": "Python 3 (ipykernel)",
   "language": "python",
   "name": "python3"
  },
  "language_info": {
   "codemirror_mode": {
    "name": "ipython",
    "version": 3
   },
   "file_extension": ".py",
   "mimetype": "text/x-python",
   "name": "python",
   "nbconvert_exporter": "python",
   "pygments_lexer": "ipython3",
   "version": "3.10.6"
  },
  "toc": {
   "base_numbering": 1,
   "nav_menu": {},
   "number_sections": true,
   "sideBar": true,
   "skip_h1_title": false,
   "title_cell": "Table of Contents",
   "title_sidebar": "Contents",
   "toc_cell": false,
   "toc_position": {},
   "toc_section_display": true,
   "toc_window_display": false
  },
  "varInspector": {
   "cols": {
    "lenName": 16,
    "lenType": 16,
    "lenVar": 40
   },
   "kernels_config": {
    "python": {
     "delete_cmd_postfix": "",
     "delete_cmd_prefix": "del ",
     "library": "var_list.py",
     "varRefreshCmd": "print(var_dic_list())"
    },
    "r": {
     "delete_cmd_postfix": ") ",
     "delete_cmd_prefix": "rm(",
     "library": "var_list.r",
     "varRefreshCmd": "cat(var_dic_list()) "
    }
   },
   "types_to_exclude": [
    "module",
    "function",
    "builtin_function_or_method",
    "instance",
    "_Feature"
   ],
   "window_display": false
  }
 },
 "nbformat": 4,
 "nbformat_minor": 4
}
