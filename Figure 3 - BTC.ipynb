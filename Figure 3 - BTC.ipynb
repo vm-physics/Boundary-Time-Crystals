{
 "cells": [
  {
   "cell_type": "code",
   "execution_count": null,
   "metadata": {
    "ExecuteTime": {
     "end_time": "2022-11-25T08:12:20.623547Z",
     "start_time": "2022-11-25T08:12:19.378736Z"
    },
    "code_folding": []
   },
   "outputs": [],
   "source": [
    "import os\n",
    "os.environ['OMP_NUM_THREADS'] = '30'\n",
    "\n",
    "from qutip import *\n",
    "import numpy as np\n",
    "\n",
    "folder_save_figure = '../Figures/'\n",
    "folder_name        = '../Data/'"
   ]
  },
  {
   "cell_type": "code",
   "execution_count": null,
   "metadata": {
    "ExecuteTime": {
     "end_time": "2022-11-25T08:12:20.907461Z",
     "start_time": "2022-11-25T08:12:20.625620Z"
    }
   },
   "outputs": [],
   "source": [
    "from __future__ import division\n",
    "\n",
    "import itertools\n",
    "\n",
    "from cycler import cycler\n",
    "import matplotlib as mpl\n",
    "import matplotlib.pyplot as plt\n",
    "import numpy as np\n",
    "\n",
    "import fssa"
   ]
  },
  {
   "cell_type": "code",
   "execution_count": null,
   "metadata": {
    "ExecuteTime": {
     "end_time": "2022-11-17T13:47:08.901237Z",
     "start_time": "2022-11-17T13:46:43.928197Z"
    },
    "code_folding": [
     22,
     74
    ]
   },
   "outputs": [],
   "source": [
    "def QFI(w0):\n",
    "    \n",
    "    delta_w0  = w0 / div\n",
    "    \n",
    "    ########### no increment\n",
    "    H          = w0 * J_x\n",
    "    rho        = steadystate(H      , c_ops, method = 'direct', use_rcm = True, sparse = True)\n",
    "\n",
    "    ########### plus increment\n",
    "    H_plus     = (w0 + delta_w0) * J_x\n",
    "    rho_plus   = steadystate(H_plus , c_ops, method = 'direct', use_rcm = True, sparse = True)\n",
    "\n",
    "    ########### minus increment\n",
    "    H_minus    = (w0 - delta_w0) * J_x\n",
    "    rho_minus  = steadystate(H_minus, c_ops, method = 'direct', use_rcm = True, sparse = True)\n",
    "    \n",
    "    ########### 2 plus increment\n",
    "    H_2plus    = (w0 + (2 * delta_w0)) * J_x\n",
    "    rho_2plus  = steadystate(H_2plus , c_ops, method = 'direct', use_rcm = True, sparse = True)\n",
    "\n",
    "    ########### 2 minus increment\n",
    "    H_2minus   = (w0 - (2 * delta_w0)) * J_x\n",
    "    rho_2minus = steadystate(H_2minus, c_ops, method = 'direct', use_rcm = True, sparse = True)\n",
    "    \n",
    "    #Derivative\n",
    "    diff       = (-rho_2plus + 8*rho_plus - 8*rho_minus + rho_2minus) / (12 * delta_w0)\n",
    "    \n",
    "    #\n",
    "    val, vec   = rho.eigenstates(sort='high')\n",
    "    \n",
    "    L          = 0\n",
    "    for i in range( len(val) ):\n",
    "        \n",
    "        for j in range( len(val) ):\n",
    "            \n",
    "            if val[i] + val[j] >= tol:\n",
    "                \n",
    "                veci = vec[i].unit()\n",
    "                vecj = vec[j].unit()\n",
    "\n",
    "                den  = val[i] + val[j]\n",
    "\n",
    "                ope  = veci * vecj.dag()\n",
    "\n",
    "                L    = L + 2 * ( (veci.dag() * diff * vecj)[0,0] / den ) * ope\n",
    "            \n",
    "    Q   = np.real( ( rho * (L * L) ).tr() )\n",
    "        \n",
    "    return Q\n",
    "\n",
    "N_vec1 = range(2, 20, 2)\n",
    "N_vec2 = range(20, 1020, 20)\n",
    "\n",
    "N_vec  = np.concatenate( (N_vec1, N_vec2), axis = 0 )\n",
    "\n",
    "for N in N_vec:\n",
    "\n",
    "    div     = 400\n",
    "\n",
    "    J_x     = jmat( N/2, 'x')\n",
    "    J_minus = jmat( N/2, '-')\n",
    "\n",
    "    kappa   = 1\n",
    "    c_ops   = [np.sqrt( kappa / (N/2) ) * J_minus]\n",
    "\n",
    "    w0_vec1 = np.linspace(0.10, 0.9  , 50)\n",
    "    w0_vec2 = np.linspace(0.90, 1.0  , 50)\n",
    "    w0_vec3 = np.linspace(1.00, 1.2  , 50)\n",
    "\n",
    "    w0_vec  = np.concatenate( (w0_vec1, w0_vec2, w0_vec3), axis = 0 )\n",
    "\n",
    "    tol     = 1e-8\n",
    "\n",
    "    QFI_vec = parfor(QFI, w0_vec)\n",
    "\n",
    "    np.save(folder_name + \"QFI_along_w0_N=\"+str(N) , QFI_vec ) \n",
    "    np.save(folder_name + \"w0_N=\"+str(N)           , w0_vec  )"
   ]
  },
  {
   "cell_type": "code",
   "execution_count": null,
   "metadata": {
    "ExecuteTime": {
     "end_time": "2022-11-23T07:01:56.373362Z",
     "start_time": "2022-11-23T07:01:36.626468Z"
    }
   },
   "outputs": [],
   "source": [
    "#Finite-size scaling as in Figure 2 - BTC file. Using https://pyfssa.readthedocs.io/en/stable/index.html\n",
    "\n",
    "folder_name = '../Data/'\n",
    "\n",
    "N_vec1      = range(6, 20, 2)\n",
    "N_vec2      = range(20, 520, 20)\n",
    "\n",
    "N_vec       = np.concatenate( (N_vec1, N_vec2), axis = 0 )\n",
    "\n",
    "st          = 35\n",
    "\n",
    "ls          = N_vec\n",
    "a           = []\n",
    "w0_vec      = []\n",
    "\n",
    "for N in N_vec:\n",
    "    \n",
    "    aux = np.load(folder_name + \"QFI_along_w0_N=\"+str(N)+\".npy\")\n",
    "    aux = aux[st:-1]\n",
    "    a.append( aux )\n",
    "\n",
    "rhos   = np.load(folder_name  + \"w0_N=\"+str(N)+\".npy\")[st:-1]\n",
    "\n",
    "da     = np.multiply(a , 0.001)\n",
    "ret    = fssa.autoscale(ls, rhos, a, da, 0.99, 1.45, 2)\n",
    "\n",
    "auto_scaled_data_1 = fssa.scaledata(ls, rhos, a, da, ret.rho, ret.nu, ret.zeta)\n",
    "\n",
    "print(\"wcritical = \", ret.rho, ret.drho)\n",
    "print(\"nu = \", ret.nu, ret.dnu)\n",
    "print(\"zeta = \", ret.zeta, ret.dzeta)"
   ]
  }
 ],
 "metadata": {
  "kernelspec": {
   "display_name": "Python 3 (ipykernel)",
   "language": "python",
   "name": "python3"
  },
  "language_info": {
   "codemirror_mode": {
    "name": "ipython",
    "version": 3
   },
   "file_extension": ".py",
   "mimetype": "text/x-python",
   "name": "python",
   "nbconvert_exporter": "python",
   "pygments_lexer": "ipython3",
   "version": "3.10.6"
  },
  "toc": {
   "base_numbering": 1,
   "nav_menu": {},
   "number_sections": true,
   "sideBar": true,
   "skip_h1_title": false,
   "title_cell": "Table of Contents",
   "title_sidebar": "Contents",
   "toc_cell": false,
   "toc_position": {},
   "toc_section_display": true,
   "toc_window_display": false
  },
  "varInspector": {
   "cols": {
    "lenName": 16,
    "lenType": 16,
    "lenVar": 40
   },
   "kernels_config": {
    "python": {
     "delete_cmd_postfix": "",
     "delete_cmd_prefix": "del ",
     "library": "var_list.py",
     "varRefreshCmd": "print(var_dic_list())"
    },
    "r": {
     "delete_cmd_postfix": ") ",
     "delete_cmd_prefix": "rm(",
     "library": "var_list.r",
     "varRefreshCmd": "cat(var_dic_list()) "
    }
   },
   "types_to_exclude": [
    "module",
    "function",
    "builtin_function_or_method",
    "instance",
    "_Feature"
   ],
   "window_display": false
  }
 },
 "nbformat": 4,
 "nbformat_minor": 4
}
