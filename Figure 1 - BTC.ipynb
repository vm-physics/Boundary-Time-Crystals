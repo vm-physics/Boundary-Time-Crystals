{
 "cells": [
  {
   "cell_type": "code",
   "execution_count": null,
   "metadata": {
    "ExecuteTime": {
     "end_time": "2022-12-20T11:57:04.288578Z",
     "start_time": "2022-12-20T11:57:01.472074Z"
    },
    "code_folding": []
   },
   "outputs": [],
   "source": [
    "from qutip import *\n",
    "import numpy as np\n",
    "\n",
    "import matplotlib\n",
    "import matplotlib.pyplot as plt\n",
    "\n",
    "plt.rcParams['axes.labelsize']  = 18\n",
    "plt.rcParams['axes.titlesize']  = 16\n",
    "plt.rcParams['xtick.labelsize'] = 16\n",
    "plt.rcParams['ytick.labelsize'] = 16\n",
    "plt.rcParams['legend.fontsize'] = 16\n",
    "\n",
    "folder_save_figure = '../Figures/'\n",
    "folder_name        = '../Data/'"
   ]
  },
  {
   "cell_type": "markdown",
   "metadata": {},
   "source": [
    "# Magnetizations:"
   ]
  },
  {
   "cell_type": "code",
   "execution_count": null,
   "metadata": {
    "ExecuteTime": {
     "end_time": "2022-11-25T07:04:29.512520Z",
     "start_time": "2022-11-25T07:04:01.042241Z"
    },
    "code_folding": []
   },
   "outputs": [],
   "source": [
    "for w0 in [0.5, 1.5]:\n",
    "\n",
    "    for N in [20, 100, 200, 400, 800]:\n",
    "\n",
    "        J_x           = jmat( N/2, 'x')\n",
    "        J_y           = jmat( N/2, 'y')\n",
    "        J_z           = jmat( N/2, 'z')\n",
    "        \n",
    "        eig_rho0      = J_z.groundstate()\n",
    "                \n",
    "        rho0          = eig_rho0[1].unit()\n",
    " \n",
    "        J_x           = jmat( N/2, 'x')\n",
    "        J_y           = jmat( N/2, 'y')\n",
    "        J_z           = jmat( N/2, 'z')\n",
    "\n",
    "        J_minus       = jmat( N/2, '-')\n",
    "\n",
    "        kappa         = 1\n",
    "\n",
    "        c_ops         = [np.sqrt( kappa / (N/2) ) * J_minus]\n",
    "\n",
    "        tlist         = np.linspace(0, 50, 300)\n",
    "        H             = w0 * J_x\n",
    "        rhot          = mesolve(H, rho0, tlist, c_ops, [])\n",
    "\n",
    "        expect_Sx_vec = expect(J_x / N, rhot.states)\n",
    "        expect_Sy_vec = expect(J_y / N, rhot.states)\n",
    "        expect_Sz_vec = expect(J_z / N, rhot.states)\n",
    "\n",
    "        np.save(folder_name + \"intro_Sx_vec_N=\"+str(N)+\"_w0=\"+str(w0)  , expect_Sx_vec )\n",
    "        np.save(folder_name + \"intro_Sy_vec_N=\"+str(N)+\"_w0=\"+str(w0)  , expect_Sy_vec )\n",
    "        np.save(folder_name + \"intro_Sz_vec_N=\"+str(N)+\"_w0=\"+str(w0)  , expect_Sz_vec )\n",
    "\n",
    "        np.save(folder_name + \"intro_tlist_N=\"+str(N)+\"_w0=\"+str(w0)   , tlist )"
   ]
  },
  {
   "cell_type": "markdown",
   "metadata": {},
   "source": [
    "# Liouvillian analysis:"
   ]
  },
  {
   "cell_type": "code",
   "execution_count": null,
   "metadata": {
    "ExecuteTime": {
     "end_time": "2022-11-25T07:05:16.328277Z",
     "start_time": "2022-11-25T07:05:14.636423Z"
    }
   },
   "outputs": [],
   "source": [
    "for w0 in [0.5, 1.5]:\n",
    "\n",
    "    N_vec = range(10, 1000, 10)\n",
    "\n",
    "    real_N = []\n",
    "    imag_N = []\n",
    "\n",
    "    for N in N_vec:\n",
    "\n",
    "        J_x         = jmat( N/2, 'x')\n",
    "        J_z         = jmat( N/2, 'z')\n",
    "        J_minus     = jmat( N/2, '-')\n",
    "\n",
    "        kappa       = 1\n",
    "\n",
    "        c_ops       = [np.sqrt( kappa / (N/2) ) * J_minus]\n",
    "\n",
    "        H           = w0 * J_x\n",
    "\n",
    "        L           = liouvillian(H, c_ops)\n",
    "\n",
    "        eig_mat     = L.eigenenergies(sparse = False, sort='high', eigvals=10, tol=0, maxiter=100000)\n",
    "        re_eigmat   = np.real(eig_mat)\n",
    "        imag_eigmat = np.imag(eig_mat)\n",
    "\n",
    "        np.save(folder_name + \"spectra_real_N=\"+str(N)+\"_w0=\"+str(w0), re_eigmat)\n",
    "        np.save(folder_name + \"spectra_imag_N=\"+str(N)+\"_w0=\"+str(w0), imag_eigmat)"
   ]
  }
 ],
 "metadata": {
  "kernelspec": {
   "display_name": "Python 3 (ipykernel)",
   "language": "python",
   "name": "python3"
  },
  "language_info": {
   "codemirror_mode": {
    "name": "ipython",
    "version": 3
   },
   "file_extension": ".py",
   "mimetype": "text/x-python",
   "name": "python",
   "nbconvert_exporter": "python",
   "pygments_lexer": "ipython3",
   "version": "3.10.6"
  },
  "toc": {
   "base_numbering": 1,
   "nav_menu": {},
   "number_sections": true,
   "sideBar": true,
   "skip_h1_title": false,
   "title_cell": "Table of Contents",
   "title_sidebar": "Contents",
   "toc_cell": false,
   "toc_position": {},
   "toc_section_display": true,
   "toc_window_display": false
  },
  "varInspector": {
   "cols": {
    "lenName": 16,
    "lenType": 16,
    "lenVar": 40
   },
   "kernels_config": {
    "python": {
     "delete_cmd_postfix": "",
     "delete_cmd_prefix": "del ",
     "library": "var_list.py",
     "varRefreshCmd": "print(var_dic_list())"
    },
    "r": {
     "delete_cmd_postfix": ") ",
     "delete_cmd_prefix": "rm(",
     "library": "var_list.r",
     "varRefreshCmd": "cat(var_dic_list()) "
    }
   },
   "types_to_exclude": [
    "module",
    "function",
    "builtin_function_or_method",
    "instance",
    "_Feature"
   ],
   "window_display": false
  }
 },
 "nbformat": 4,
 "nbformat_minor": 4
}
